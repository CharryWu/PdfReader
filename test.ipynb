{
 "cells": [
  {
   "cell_type": "code",
   "execution_count": 35,
   "metadata": {
    "collapsed": true
   },
   "outputs": [],
   "source": [
    "#!/usr/bin/env python\n",
    "import sys\n",
    "import slate\n",
    "import numpy as np\n",
    "import pandas as pd\n",
    "import scipy as sp\n",
    "import matplotlib.pyplot as plt\n",
    "import re\n",
    "\n",
    "%matplotlib notebook\n",
    "%matplotlib inline"
   ]
  },
  {
   "cell_type": "code",
   "execution_count": 26,
   "metadata": {},
   "outputs": [],
   "source": [
    "# Must remember to read as binary file\n",
    "df_a = pd.read_csv('a.csv')\n",
    "df_b = pd.read_csv('b.csv')"
   ]
  },
  {
   "cell_type": "code",
   "execution_count": 50,
   "metadata": {
    "collapsed": true
   },
   "outputs": [],
   "source": [
    "start_b = 234\n",
    "end_b = 266"
   ]
  },
  {
   "cell_type": "code",
   "execution_count": 52,
   "metadata": {},
   "outputs": [
    {
     "name": "stdout",
     "output_type": "stream",
     "text": [
      "REFERENCES \n",
      "\n",
      "Walcher, Heidi A. (1998) ‘Between paradise and political capital: the \n",
      "\n",
      "semiotics of Safavid Isfahan’, in Jeff Albert, Magnus Bernhardsson \n",
      "\n",
      "and Roger Kenna (eds) Transformations of \n",
      "\n",
      "the Middle Eastern \n",
      "\n",
      "Environments: Legacies and Lessons, New Haven: Yale University \n",
      "\n",
      "Press, pp. 330–48  \n",
      "\n",
      "Watenpaugh, Heghnar Zeitlian (2004) The Image of an Ottoman City: \n",
      "\n",
      "Imperial Architecture and Urban Experience in Aleppo in the 16th \n",
      "\n",
      "and 17th Centuries, Leiden: E. J. Brill  \n",
      "\n",
      "Waters, Clara Erskine Clement (1895) Constantinople: The City of the \n",
      "\n",
      "Sultans, Boston: Estes & Lauriat \n",
      "\n",
      "Watson, William \n",
      "\n",
      "J. \n",
      "\n",
      "(1968) \n",
      "\n",
      "‘İbrāhīm Müteferrika \n",
      "\n",
      "and Turkish \n",
      "\n",
      "Incunabula’, Journal of the American Oriental Society, 88, pp. 435–\n",
      "\n",
      "51  \n",
      "\n",
      "Weber, M. (1991) From Max Weber: Essays in Sociology, edited and \n",
      "\n",
      "translated by H. H. Gerth and C. W. Mills, London: Routledge \n",
      "\n",
      "Weinberg, Bennett Alan and Bonnie K. Bealer (2002) The World of \n",
      "\n",
      "Caffeine: The Science and Culture of the World’s Most Popular Drug, \n",
      "\n",
      "New York: Routledge \n",
      "\n",
      "Wheatcroft, Andrew (1993) The Ottomans, London: Viking \n",
      "\n",
      "White, Charles (1845) Three Years in Constantinople; or, Domestic \n",
      "\n",
      "Manners of the Turks in 1844, 3 vols, London: Henry Colburn \n",
      "\n",
      "White, Hayden V. (1974) ‘The historical text as a literary artefact’, \n",
      "\n",
      "Clio, 3 (3), pp. 81–100 \n",
      "\n",
      "   (1985) Tropics of Discourse: Essays in Cultural Criticism, Baltimore \n",
      "\n",
      "and London: Johns Hopkins University Press \n",
      "\n",
      "Williams, Raymond (1992) The Long Revolution, London: Hogarth \n",
      "\n",
      "Yaşar, Ahmed (2003) ‘The coffeehouses in early modern Istanbul: \n",
      "\n",
      "public space, sociability and surveillance’, MA thesis, Boğaziçi \n",
      "\n",
      "University \n",
      "\n",
      "Yücel, H.-Â. (1937) ‘Ahmed Refik’, Akşam, 18 October 1937 \n",
      "\n",
      "Zeɔevi, Dror (1996) An Ottoman Century: The District of Jerusalem in \n",
      "\n",
      "the 1600s, Albany: State University of New York Press  \n",
      "\n",
      "   (2004) \n",
      "\n",
      "‘Back \n",
      "\n",
      "to Napoleon? Thoughts on \n",
      "\n",
      "the beginning of \n",
      "\n",
      "the \n",
      "\n",
      "modern era in the Middle East’, Mediterranean Historical Review, \n",
      "\n",
      "19 (1) 2004, pp. 73–94 \n",
      "\n",
      "Zilfi, Madeline C. (1988) The Politics of Piety: The Ottoman Ulema in \n",
      "\n",
      "255 \n",
      "\n",
      "\f",
      "\n"
     ]
    }
   ],
   "source": [
    "print(df_b['page_content'][265])"
   ]
  },
  {
   "cell_type": "code",
   "execution_count": 36,
   "metadata": {},
   "outputs": [],
   "source": [
    "content = df_a['page_content'][271]"
   ]
  },
  {
   "cell_type": "code",
   "execution_count": null,
   "metadata": {
    "collapsed": true
   },
   "outputs": [],
   "source": []
  }
 ],
 "metadata": {
  "kernelspec": {
   "display_name": "Python 3",
   "language": "python",
   "name": "python3"
  },
  "language_info": {
   "codemirror_mode": {
    "name": "ipython",
    "version": 3
   },
   "file_extension": ".py",
   "mimetype": "text/x-python",
   "name": "python",
   "nbconvert_exporter": "python",
   "pygments_lexer": "ipython3",
   "version": "3.6.0"
  }
 },
 "nbformat": 4,
 "nbformat_minor": 2
}
